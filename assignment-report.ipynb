import matplotlib.pyplot as plt
import seaborn as sns
import pandas as pd
import os

# Load the Iris dataset
file_path = 'IRIS.csv'
df = pd.read_csv(file_path )

# Verify if the file exists

if os.path.exists(file_path):
    print("File exists.")
else:
    print("File not found. Check the file path.")

# Plot a pie chart of species distribution
plt.figure(figsize=(8, 8))
df['species'].value_counts().plot.pie(autopct='%1.1f%%', startangle=90)
plt.title('Distribution of Iris Species')
plt.show()

# Plot a scatter graph to explore the relationship between petal length and petal width
plt.figure(figsize=(10, 6))
sns.scatterplot(x='petal_length', y='petal_width', hue='species', data=df)
plt.title('Relationship between Petal Length and Petal Width')
plt.xlabel('Petal Length')
plt.ylabel('Petal Width')
plt.show()

# Calculate and display correlation matrix
correlation_matrix = df.corr()
print("Correlation Matrix:")
print(correlation_matrix)

# Plot a heatmap of the correlation matrix
plt.figure(figsize=(10, 8))
sns.heatmap(correlation_matrix, annot=True, cmap='coolwarm', fmt=".2f")
plt.title('Correlation Matrix Heatmap')
plt.show()

# Display descriptive statistics of the dataset
descriptive_stats = df.describe()
print("Descriptive Statistics:")
print(descriptive_stats)
